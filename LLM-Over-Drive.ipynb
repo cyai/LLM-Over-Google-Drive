{
 "cells": [
  {
   "cell_type": "code",
   "execution_count": 1,
   "metadata": {},
   "outputs": [],
   "source": [
    "from langchain.llms import LlamaCpp\n",
    "from langchain import PromptTemplate, LLMChain\n",
    "from langchain.callbacks.manager import CallbackManager\n",
    "from langchain.callbacks.streaming_stdout import StreamingStdOutCallbackHandler"
   ]
  },
  {
   "cell_type": "code",
   "execution_count": 2,
   "metadata": {},
   "outputs": [],
   "source": [
    "# Callbacks support token-wise streaming\n",
    "callback_manager = CallbackManager([StreamingStdOutCallbackHandler()])\n",
    "# Verbose is required to pass to the callback manager"
   ]
  },
  {
   "cell_type": "code",
   "execution_count": 4,
   "metadata": {},
   "outputs": [
    {
     "name": "stderr",
     "output_type": "stream",
     "text": [
      "llama.cpp: loading model from ./llama-2-7b.ggmlv3.q4_0.bin\n",
      "llama_model_load_internal: format     = ggjt v3 (latest)\n",
      "llama_model_load_internal: n_vocab    = 32000\n",
      "llama_model_load_internal: n_ctx      = 512\n",
      "llama_model_load_internal: n_embd     = 4096\n",
      "llama_model_load_internal: n_mult     = 256\n",
      "llama_model_load_internal: n_head     = 32\n",
      "llama_model_load_internal: n_head_kv  = 32\n",
      "llama_model_load_internal: n_layer    = 32\n",
      "llama_model_load_internal: n_rot      = 128\n",
      "llama_model_load_internal: n_gqa      = 1\n",
      "llama_model_load_internal: rnorm_eps  = 5.0e-06\n",
      "llama_model_load_internal: n_ff       = 11008\n",
      "llama_model_load_internal: freq_base  = 10000.0\n",
      "llama_model_load_internal: freq_scale = 1\n",
      "llama_model_load_internal: ftype      = 2 (mostly Q4_0)\n",
      "llama_model_load_internal: model size = 7B\n",
      "llama_model_load_internal: ggml ctx size =    0.08 MB\n",
      "llama_model_load_internal: mem required  = 3615.73 MB (+  256.00 MB per state)\n",
      "llama_new_context_with_model: kv self size  =  256.00 MB\n",
      "ggml_metal_init: allocating\n",
      "ggml_metal_init: loading '/Users/vardh/work/trying-smt/LLM-Over-Drive/env/lib/python3.11/site-packages/llama_cpp/ggml-metal.metal'\n",
      "ggml_metal_init: loaded kernel_add                            0x130266f30\n",
      "ggml_metal_init: loaded kernel_add_row                        0x14c12cef0\n",
      "ggml_metal_init: loaded kernel_mul                            0x14c12d150\n",
      "ggml_metal_init: loaded kernel_mul_row                        0x14c12c690\n",
      "ggml_metal_init: loaded kernel_scale                          0x14c12e3c0\n",
      "ggml_metal_init: loaded kernel_silu                           0x14c12d940\n",
      "ggml_metal_init: loaded kernel_relu                           0x14c12ebf0\n",
      "ggml_metal_init: loaded kernel_gelu                           0x13025c1c0\n",
      "ggml_metal_init: loaded kernel_soft_max                       0x1302675f0\n",
      "ggml_metal_init: loaded kernel_diag_mask_inf                  0x130267850\n",
      "ggml_metal_init: loaded kernel_get_rows_f16                   0x130267c50\n",
      "ggml_metal_init: loaded kernel_get_rows_q4_0                  0x130268040\n",
      "ggml_metal_init: loaded kernel_get_rows_q4_1                  0x14c12feb0\n",
      "ggml_metal_init: loaded kernel_get_rows_q2_K                  0x14c1302a0\n",
      "ggml_metal_init: loaded kernel_get_rows_q3_K                  0x14c130d10\n",
      "ggml_metal_init: loaded kernel_get_rows_q4_K                  0x14c131810\n",
      "ggml_metal_init: loaded kernel_get_rows_q5_K                  0x1302682a0\n",
      "ggml_metal_init: loaded kernel_get_rows_q6_K                  0x130268710\n",
      "ggml_metal_init: loaded kernel_rms_norm                       0x1302697f0\n",
      "ggml_metal_init: loaded kernel_norm                           0x13026a2f0\n",
      "ggml_metal_init: loaded kernel_mul_mat_f16_f32                0x14c132710\n",
      "ggml_metal_init: loaded kernel_mul_mat_q4_0_f32               0x14c132d70\n",
      "ggml_metal_init: loaded kernel_mul_mat_q4_1_f32               0x14c1337f0\n",
      "ggml_metal_init: loaded kernel_mul_mat_q2_K_f32               0x14c1342a0\n",
      "ggml_metal_init: loaded kernel_mul_mat_q3_K_f32               0x14c134ea0\n",
      "ggml_metal_init: loaded kernel_mul_mat_q4_K_f32               0x14c135920\n",
      "ggml_metal_init: loaded kernel_mul_mat_q5_K_f32               0x14c136370\n",
      "ggml_metal_init: loaded kernel_mul_mat_q6_K_f32               0x14c136dc0\n",
      "ggml_metal_init: loaded kernel_mul_mm_f16_f32                 0x14c137a80\n",
      "ggml_metal_init: loaded kernel_mul_mm_q4_0_f32                0x14c1387c0\n",
      "ggml_metal_init: loaded kernel_mul_mm_q4_1_f32                0x14c139250\n",
      "ggml_metal_init: loaded kernel_mul_mm_q2_K_f32                0x14c139cb0\n",
      "ggml_metal_init: loaded kernel_mul_mm_q3_K_f32                0x14c13a710\n",
      "ggml_metal_init: loaded kernel_mul_mm_q4_K_f32                0x14c13b170\n",
      "ggml_metal_init: loaded kernel_mul_mm_q5_K_f32                0x14c13bbd0\n",
      "ggml_metal_init: loaded kernel_mul_mm_q6_K_f32                0x14c13c630\n",
      "ggml_metal_init: loaded kernel_rope                           0x14c13ce10\n",
      "ggml_metal_init: loaded kernel_alibi_f32                      0x14c13d9a0\n",
      "ggml_metal_init: loaded kernel_cpy_f32_f16                    0x14c13e5b0\n",
      "ggml_metal_init: loaded kernel_cpy_f32_f32                    0x14c13f180\n",
      "ggml_metal_init: loaded kernel_cpy_f16_f16                    0x14c13fd30\n",
      "ggml_metal_init: recommendedMaxWorkingSetSize =  5461.34 MB\n",
      "ggml_metal_init: hasUnifiedMemory             = true\n",
      "ggml_metal_init: maxTransferRate              = built-in GPU\n",
      "llama_new_context_with_model: compute buffer total size =   73.35 MB\n",
      "llama_new_context_with_model: max tensor size =    70.31 MB\n",
      "ggml_metal_add_buffer: allocated 'data            ' buffer, size =  3616.08 MB, ( 3616.52 /  5461.34)\n",
      "ggml_metal_add_buffer: allocated 'eval            ' buffer, size =     1.36 MB, ( 3617.88 /  5461.34)\n",
      "ggml_metal_add_buffer: allocated 'kv              ' buffer, size =   258.00 MB, ( 3875.88 /  5461.34)\n",
      "AVX = 0 | AVX2 = 0 | AVX512 = 0 | AVX512_VBMI = 0 | AVX512_VNNI = 0 | FMA = 0 | NEON = 1 | ARM_FMA = 1 | F16C = 0 | FP16_VA = 1 | WASM_SIMD = 0 | BLAS = 1 | SSE3 = 0 | VSX = 0 | \n",
      "ggml_metal_add_buffer: allocated 'alloc           ' buffer, size =    72.02 MB, ( 3947.89 /  5461.34)\n"
     ]
    }
   ],
   "source": [
    "n_gpu_layers = 40  # Change this value based on your model and your GPU VRAM pool.\n",
    "n_batch = 512  # Should be between 1 and n_ctx, consider the amount of VRAM in your GPU.\n",
    "\n",
    "# Make sure the model path is correct for your system!\n",
    "llm = LlamaCpp(\n",
    "    model_path=\"./llama-2-7b.ggmlv3.q4_0.bin\",\n",
    "    n_gpu_layers=n_gpu_layers,\n",
    "    n_batch=n_batch,\n",
    "    callback_manager=callback_manager,\n",
    "    verbose=True,\n",
    ")"
   ]
  },
  {
   "cell_type": "code",
   "execution_count": 5,
   "metadata": {},
   "outputs": [],
   "source": [
    "from langchain.document_loaders import GoogleDriveLoader"
   ]
  },
  {
   "cell_type": "code",
   "execution_count": 6,
   "metadata": {},
   "outputs": [],
   "source": [
    "# https://drive.google.com/drive/u/2/folders/1zrI3S1-rWmntCO4qKK28KlDW-diJ_isg\n",
    "loader = GoogleDriveLoader(\n",
    "    folder_id=\"1zrI3S1-rWmntCO4qKK28KlDW-diJ_isg\",\n",
    "    # Optional: configure whether to recursively fetch files from subfolders. Defaults to False.\n",
    "    recursive=False,\n",
    ")"
   ]
  },
  {
   "cell_type": "code",
   "execution_count": 9,
   "metadata": {},
   "outputs": [],
   "source": [
    "docs = loader.load()\n"
   ]
  },
  {
   "cell_type": "code",
   "execution_count": 10,
   "metadata": {},
   "outputs": [],
   "source": [
    "from langchain.text_splitter import RecursiveCharacterTextSplitter\n",
    "\n",
    "\n",
    "text_splitter = RecursiveCharacterTextSplitter(chunk_size=150, chunk_overlap=5)\n",
    "all_splits = text_splitter.split_documents(docs)"
   ]
  },
  {
   "cell_type": "code",
   "execution_count": 11,
   "metadata": {},
   "outputs": [
    {
     "data": {
      "text/plain": [
       "[Document(page_content='\\ufeffOnce upon a time, in a small town nestled amidst rolling hills, there lived a young boy named Leo. From a very young age, Leo had been fascinated by', metadata={'source': 'https://docs.google.com/document/d/1RwpaTvq9s7cgfvKROUS77tCUbWaffsFYsPAh-kG4o6c/edit', 'title': 'Example', 'when': '2023-09-07T16:16:56.349Z'}),\n",
       " Document(page_content='by the stars and the mysteries of the universe. He spent countless nights lying on his back in the backyard, gazing up at the night sky, imagining', metadata={'source': 'https://docs.google.com/document/d/1RwpaTvq9s7cgfvKROUS77tCUbWaffsFYsPAh-kG4o6c/edit', 'title': 'Example', 'when': '2023-09-07T16:16:56.349Z'}),\n",
       " Document(page_content='what it would be like to travel through space.', metadata={'source': 'https://docs.google.com/document/d/1RwpaTvq9s7cgfvKROUS77tCUbWaffsFYsPAh-kG4o6c/edit', 'title': 'Example', 'when': '2023-09-07T16:16:56.349Z'}),\n",
       " Document(page_content=\"Leo's room was a testament to his passion. Posters of galaxies, rockets, and astronauts adorned the walls. Model spacecraft and telescopes were\", metadata={'source': 'https://docs.google.com/document/d/1RwpaTvq9s7cgfvKROUS77tCUbWaffsFYsPAh-kG4o6c/edit', 'title': 'Example', 'when': '2023-09-07T16:16:56.349Z'}),\n",
       " Document(page_content='were scattered across his desk, each one representing a dream of exploring the great unknown.', metadata={'source': 'https://docs.google.com/document/d/1RwpaTvq9s7cgfvKROUS77tCUbWaffsFYsPAh-kG4o6c/edit', 'title': 'Example', 'when': '2023-09-07T16:16:56.349Z'}),\n",
       " Document(page_content='One warm summer evening, as Leo lay in his backyard, staring at the twinkling stars, he saw something that left him in awe. A bright, shimmering', metadata={'source': 'https://docs.google.com/document/d/1RwpaTvq9s7cgfvKROUS77tCUbWaffsFYsPAh-kG4o6c/edit', 'title': 'Example', 'when': '2023-09-07T16:16:56.349Z'}),\n",
       " Document(page_content='streak of light shot across the sky, leaving a trail of stardust in its wake. It was a meteor, and it felt like a message from the cosmos itself.', metadata={'source': 'https://docs.google.com/document/d/1RwpaTvq9s7cgfvKROUS77tCUbWaffsFYsPAh-kG4o6c/edit', 'title': 'Example', 'when': '2023-09-07T16:16:56.349Z'}),\n",
       " Document(page_content='Determined to follow his dream, Leo began to study everything he could about space exploration. He read books, watched documentaries, and even joined', metadata={'source': 'https://docs.google.com/document/d/1RwpaTvq9s7cgfvKROUS77tCUbWaffsFYsPAh-kG4o6c/edit', 'title': 'Example', 'when': '2023-09-07T16:16:56.349Z'}),\n",
       " Document(page_content=\"the astronomy club at his school. His dedication didn't go unnoticed, and his parents, seeing his passion, decided to surprise him with a visit to\", metadata={'source': 'https://docs.google.com/document/d/1RwpaTvq9s7cgfvKROUS77tCUbWaffsFYsPAh-kG4o6c/edit', 'title': 'Example', 'when': '2023-09-07T16:16:56.349Z'}),\n",
       " Document(page_content='to the local planetarium.', metadata={'source': 'https://docs.google.com/document/d/1RwpaTvq9s7cgfvKROUS77tCUbWaffsFYsPAh-kG4o6c/edit', 'title': 'Example', 'when': '2023-09-07T16:16:56.349Z'}),\n",
       " Document(page_content='As Leo stepped into the planetarium, he was surrounded by a mesmerizing display of stars, planets, and galaxies projected onto the dome-shaped', metadata={'source': 'https://docs.google.com/document/d/1RwpaTvq9s7cgfvKROUS77tCUbWaffsFYsPAh-kG4o6c/edit', 'title': 'Example', 'when': '2023-09-07T16:16:56.349Z'}),\n",
       " Document(page_content='ceiling. The soothing voice of the presenter guided them through the wonders of the universe, explaining the mysteries of black holes, the beauty of', metadata={'source': 'https://docs.google.com/document/d/1RwpaTvq9s7cgfvKROUS77tCUbWaffsFYsPAh-kG4o6c/edit', 'title': 'Example', 'when': '2023-09-07T16:16:56.349Z'}),\n",
       " Document(page_content='of nebulae, and the potential of space travel.', metadata={'source': 'https://docs.google.com/document/d/1RwpaTvq9s7cgfvKROUS77tCUbWaffsFYsPAh-kG4o6c/edit', 'title': 'Example', 'when': '2023-09-07T16:16:56.349Z'}),\n",
       " Document(page_content=\"Leo was spellbound, and his dream to become an astronaut burned brighter than ever. He knew that the path to the stars wouldn't be easy, but he was\", metadata={'source': 'https://docs.google.com/document/d/1RwpaTvq9s7cgfvKROUS77tCUbWaffsFYsPAh-kG4o6c/edit', 'title': 'Example', 'when': '2023-09-07T16:16:56.349Z'}),\n",
       " Document(page_content='was ready to work hard and persevere.', metadata={'source': 'https://docs.google.com/document/d/1RwpaTvq9s7cgfvKROUS77tCUbWaffsFYsPAh-kG4o6c/edit', 'title': 'Example', 'when': '2023-09-07T16:16:56.349Z'}),\n",
       " Document(page_content=\"Years passed, and Leo's determination led him to excel in school, particularly in science and mathematics. He applied to the best universities,\", metadata={'source': 'https://docs.google.com/document/d/1RwpaTvq9s7cgfvKROUS77tCUbWaffsFYsPAh-kG4o6c/edit', 'title': 'Example', 'when': '2023-09-07T16:16:56.349Z'}),\n",
       " Document(page_content='earning a scholarship to study astrophysics. He spent countless hours in the lab, conducting experiments and researching celestial phenomena. His', metadata={'source': 'https://docs.google.com/document/d/1RwpaTvq9s7cgfvKROUS77tCUbWaffsFYsPAh-kG4o6c/edit', 'title': 'Example', 'when': '2023-09-07T16:16:56.349Z'}),\n",
       " Document(page_content='His dream was to contribute to the understanding of the universe and to become part of the select few who had journeyed into space.', metadata={'source': 'https://docs.google.com/document/d/1RwpaTvq9s7cgfvKROUS77tCUbWaffsFYsPAh-kG4o6c/edit', 'title': 'Example', 'when': '2023-09-07T16:16:56.349Z'}),\n",
       " Document(page_content=\"After years of hard work, Leo's dream became a reality. He was selected to join a team of astronauts on a mission to the International Space Station.\", metadata={'source': 'https://docs.google.com/document/d/1RwpaTvq9s7cgfvKROUS77tCUbWaffsFYsPAh-kG4o6c/edit', 'title': 'Example', 'when': '2023-09-07T16:16:56.349Z'}),\n",
       " Document(page_content=\"As he strapped himself into the spacecraft, he couldn't help but think back to that fateful night when he had watched the meteor streak across the\", metadata={'source': 'https://docs.google.com/document/d/1RwpaTvq9s7cgfvKROUS77tCUbWaffsFYsPAh-kG4o6c/edit', 'title': 'Example', 'when': '2023-09-07T16:16:56.349Z'}),\n",
       " Document(page_content='the sky.', metadata={'source': 'https://docs.google.com/document/d/1RwpaTvq9s7cgfvKROUS77tCUbWaffsFYsPAh-kG4o6c/edit', 'title': 'Example', 'when': '2023-09-07T16:16:56.349Z'}),\n",
       " Document(page_content=\"The launch was a breathtaking experience, the roar of the rocket's engines drowning out everything else as they hurtled toward the stars. As the\", metadata={'source': 'https://docs.google.com/document/d/1RwpaTvq9s7cgfvKROUS77tCUbWaffsFYsPAh-kG4o6c/edit', 'title': 'Example', 'when': '2023-09-07T16:16:56.349Z'}),\n",
       " Document(page_content=\"the spacecraft broke free from Earth's atmosphere, Leo gazed out of the window and saw the world below, a blue-and-green jewel suspended in the\", metadata={'source': 'https://docs.google.com/document/d/1RwpaTvq9s7cgfvKROUS77tCUbWaffsFYsPAh-kG4o6c/edit', 'title': 'Example', 'when': '2023-09-07T16:16:56.349Z'}),\n",
       " Document(page_content='the vastness of space.', metadata={'source': 'https://docs.google.com/document/d/1RwpaTvq9s7cgfvKROUS77tCUbWaffsFYsPAh-kG4o6c/edit', 'title': 'Example', 'when': '2023-09-07T16:16:56.349Z'}),\n",
       " Document(page_content='Over the following months, Leo and his fellow astronauts conducted experiments, repaired equipment, and marveled at the beauty of space. They watched', metadata={'source': 'https://docs.google.com/document/d/1RwpaTvq9s7cgfvKROUS77tCUbWaffsFYsPAh-kG4o6c/edit', 'title': 'Example', 'when': '2023-09-07T16:16:56.349Z'}),\n",
       " Document(page_content='the sun rise and set over the curvature of the Earth, and they saw the Milky Way stretch out in all its glory.', metadata={'source': 'https://docs.google.com/document/d/1RwpaTvq9s7cgfvKROUS77tCUbWaffsFYsPAh-kG4o6c/edit', 'title': 'Example', 'when': '2023-09-07T16:16:56.349Z'}),\n",
       " Document(page_content='Leo had achieved his childhood dream. He had ventured into the great unknown, and he felt a profound sense of awe and gratitude for the universe that', metadata={'source': 'https://docs.google.com/document/d/1RwpaTvq9s7cgfvKROUS77tCUbWaffsFYsPAh-kG4o6c/edit', 'title': 'Example', 'when': '2023-09-07T16:16:56.349Z'}),\n",
       " Document(page_content='that had captivated his imagination for so long.', metadata={'source': 'https://docs.google.com/document/d/1RwpaTvq9s7cgfvKROUS77tCUbWaffsFYsPAh-kG4o6c/edit', 'title': 'Example', 'when': '2023-09-07T16:16:56.349Z'}),\n",
       " Document(page_content='As the mission came to an end, and Leo returned to Earth, he knew that he would continue to explore the cosmos, not just as an astronaut but as a', metadata={'source': 'https://docs.google.com/document/d/1RwpaTvq9s7cgfvKROUS77tCUbWaffsFYsPAh-kG4o6c/edit', 'title': 'Example', 'when': '2023-09-07T16:16:56.349Z'}),\n",
       " Document(page_content='as a lifelong student of the universe. His simple story was a testament to the power of dreams and the boundless wonders of space that could inspire', metadata={'source': 'https://docs.google.com/document/d/1RwpaTvq9s7cgfvKROUS77tCUbWaffsFYsPAh-kG4o6c/edit', 'title': 'Example', 'when': '2023-09-07T16:16:56.349Z'}),\n",
       " Document(page_content='anyone to reach for the stars.', metadata={'source': 'https://docs.google.com/document/d/1RwpaTvq9s7cgfvKROUS77tCUbWaffsFYsPAh-kG4o6c/edit', 'title': 'Example', 'when': '2023-09-07T16:16:56.349Z'}),\n",
       " Document(page_content='Once\\nupon\\na\\ntime\\nin\\na\\nserene\\ncountryside,\\nthere\\nwas\\na\\npicturesque\\npond\\nnestled\\namidst\\nrolling\\nhills.\\nThis\\npond\\nwas\\nhome\\nto\\na\\ncharming\\ncommunity\\nof', metadata={'source': 'https://drive.google.com/file/d/1sb-A3dwGmUv8SNyaTlDTvwn7nHP8vJUo/view', 'title': 'example.pdf', 'page': 0}),\n",
       " Document(page_content='of\\nducks\\nwho\\nlived\\nharmoniously,\\nenjoying\\nthe\\nclear\\nblue\\nwater\\nand\\nlush\\nsurroundings.\\nAmong\\nthese\\nducks\\nwas\\na\\nplucky\\nlittle\\nduckling\\nnamed\\nDaisy.', metadata={'source': 'https://drive.google.com/file/d/1sb-A3dwGmUv8SNyaTlDTvwn7nHP8vJUo/view', 'title': 'example.pdf', 'page': 0}),\n",
       " Document(page_content='Daisy\\nwas\\nunlike\\nthe\\nother\\nducklings,\\nalways\\ncurious\\nand\\neager\\nto\\nexplore.\\nOne\\nbright\\nmorning,\\nshe\\nnoticed\\na\\nshimmering\\nobject\\nnear\\nthe\\nedge\\nof\\nthe', metadata={'source': 'https://drive.google.com/file/d/1sb-A3dwGmUv8SNyaTlDTvwn7nHP8vJUo/view', 'title': 'example.pdf', 'page': 0}),\n",
       " Document(page_content='the\\npond.\\nWith\\nher\\nheart\\nracing,\\nDaisy\\nwaddled\\nover\\nto\\nfind\\na\\nglimmering\\ngolden\\nfeather\\nlying\\non\\nthe\\nground.\\nExcited\\nand\\nintrigued,\\nDaisy\\nshowed\\nher', metadata={'source': 'https://drive.google.com/file/d/1sb-A3dwGmUv8SNyaTlDTvwn7nHP8vJUo/view', 'title': 'example.pdf', 'page': 0}),\n",
       " Document(page_content='her\\ndiscovery\\nto\\nher\\nfriends.\\nQuackers,\\nthe\\nwise\\nold\\nduck,\\nexamined\\nthe\\nfeather\\nclosely\\nand\\nrecalled\\ntales\\nfrom\\nlong\\nago.\\nHe\\nexplained\\nthat\\nthe', metadata={'source': 'https://drive.google.com/file/d/1sb-A3dwGmUv8SNyaTlDTvwn7nHP8vJUo/view', 'title': 'example.pdf', 'page': 0}),\n",
       " Document(page_content='the\\nGolden\\nFeather\\nwas\\nsaid\\nto\\nbe\\na\\nmagical\\nrelic\\nthat\\ngranted\\na\\nsingle\\nwish\\nto\\nthe\\nduck\\nwho\\nfound\\nit.\\nHowever,\\nthe\\nwish\\ncould\\nonly\\nbe\\nselfless\\nand', metadata={'source': 'https://drive.google.com/file/d/1sb-A3dwGmUv8SNyaTlDTvwn7nHP8vJUo/view', 'title': 'example.pdf', 'page': 0}),\n",
       " Document(page_content='and\\nfor\\nthe\\nbenefit\\nof\\nothers.\\nNews\\nof\\nthe\\nGolden\\nFeather\\nspread\\nacross\\nthe\\npond,\\nand\\nsoon,\\nall\\nthe\\nducks\\nwere\\nbuzzing\\nwith\\nexcitement.\\nSome\\nwished', metadata={'source': 'https://drive.google.com/file/d/1sb-A3dwGmUv8SNyaTlDTvwn7nHP8vJUo/view', 'title': 'example.pdf', 'page': 0}),\n",
       " Document(page_content='for\\nendless\\nfood,\\nwhile\\nothers\\nwished\\nfor\\nthe\\npond\\nto\\nbe\\neven\\nmore\\nbeautiful.\\nBut\\nDaisy\\nhad\\na\\ndifferent\\nidea.\\nShe\\nwished\\nfor\\na\\nbountiful\\nharvest\\nfor', metadata={'source': 'https://drive.google.com/file/d/1sb-A3dwGmUv8SNyaTlDTvwn7nHP8vJUo/view', 'title': 'example.pdf', 'page': 0}),\n",
       " Document(page_content=\"for\\nthe\\nlocal\\nfarmer,\\nwho\\nhad\\nbeen\\nstruggling\\nwith\\nhis\\ncrops\\nthat\\nyear.\\nAs\\nthe\\nsun\\nset,\\nthe\\npond\\nturned\\ngolden,\\nand\\nthe\\nnext\\nmorning,\\nthe\\nfarmer's\", metadata={'source': 'https://drive.google.com/file/d/1sb-A3dwGmUv8SNyaTlDTvwn7nHP8vJUo/view', 'title': 'example.pdf', 'page': 0}),\n",
       " Document(page_content=\"fields\\nwere\\nlush\\nwith\\nproduce.\\nDaisy's\\nselfless\\nwish\\nhad\\ncome\\ntrue.\\nThe\\nother\\nducks\\nrealized\\nthe\\ntrue\\npower\\nof\\nthe\\nGolden\\nFeather\\nand\\nadmired\\nDaisy's\", metadata={'source': 'https://drive.google.com/file/d/1sb-A3dwGmUv8SNyaTlDTvwn7nHP8vJUo/view', 'title': 'example.pdf', 'page': 0}),\n",
       " Document(page_content='compassion.\\nFrom\\nthat\\nday\\non,\\nDaisy\\nbecame\\nknown\\nas\\n\"Daisy\\nthe\\nBenevolent.\"\\nShe\\ncontinued\\nto\\nexplore\\nand\\nplay\\nwith\\nher\\nfriends,\\nalways\\nputting\\nothers', metadata={'source': 'https://drive.google.com/file/d/1sb-A3dwGmUv8SNyaTlDTvwn7nHP8vJUo/view', 'title': 'example.pdf', 'page': 0}),\n",
       " Document(page_content='before\\nherself.\\nThe\\npond\\nbecame\\na\\nsymbol\\nof\\nunity\\nand\\nkindness,\\nall\\nthanks\\nto\\na\\ncurious\\nduckling\\nwho\\nhad\\nfound\\na\\ntiny,\\nglimmering\\nfeather.\\nAnd\\nso,', metadata={'source': 'https://drive.google.com/file/d/1sb-A3dwGmUv8SNyaTlDTvwn7nHP8vJUo/view', 'title': 'example.pdf', 'page': 0}),\n",
       " Document(page_content='so,\\nthe\\nducks\\nof\\nthe\\nserene\\ncountryside\\nlearned\\nthat\\ntrue\\nmagic\\nlay\\nnot\\nin\\nthe\\nfeather\\nitself,\\nbut\\nin\\nthe\\nselflessness\\nand\\nempathy\\nthat\\nresided', metadata={'source': 'https://drive.google.com/file/d/1sb-A3dwGmUv8SNyaTlDTvwn7nHP8vJUo/view', 'title': 'example.pdf', 'page': 0}),\n",
       " Document(page_content='within\\ntheir\\nhearts.', metadata={'source': 'https://drive.google.com/file/d/1sb-A3dwGmUv8SNyaTlDTvwn7nHP8vJUo/view', 'title': 'example.pdf', 'page': 0})]"
      ]
     },
     "execution_count": 11,
     "metadata": {},
     "output_type": "execute_result"
    }
   ],
   "source": [
    "from langchain.vectorstores import utils\n",
    "\n",
    "\n",
    "utils.filter_complex_metadata(all_splits)"
   ]
  },
  {
   "cell_type": "code",
   "execution_count": 25,
   "metadata": {},
   "outputs": [
    {
     "name": "stdout",
     "output_type": "stream",
     "text": [
      "Found model file at  /Users/vardh/.cache/gpt4all/ggml-all-MiniLM-L6-v2-f16.bin\n"
     ]
    }
   ],
   "source": [
    "from langchain.vectorstores import FAISS\n",
    "from langchain.embeddings import GPT4AllEmbeddings\n",
    "\n",
    "db = FAISS.from_documents(all_splits, GPT4AllEmbeddings())\n"
   ]
  },
  {
   "cell_type": "code",
   "execution_count": 26,
   "metadata": {},
   "outputs": [],
   "source": [
    "db.save_local(\"faiss_index\")"
   ]
  },
  {
   "cell_type": "code",
   "execution_count": 27,
   "metadata": {},
   "outputs": [],
   "source": [
    "from langchain.chains import RetrievalQA\n",
    "from langchain.prompts import PromptTemplate\n",
    "\n",
    "template = \"\"\"Use the following pieces of context to answer the question at the end.\n",
    "If you don't know the answer, just say that you don't know, don't try to make up an answer.\n",
    "Use three sentences maximum and keep the answer as concise as possible.\n",
    "{context}\n",
    "Question: {question}\n",
    "Helpful Answer:\"\"\"\n",
    "QA_CHAIN_PROMPT = PromptTemplate.from_template(template)\n",
    "\n",
    "qa_chain = RetrievalQA.from_chain_type(\n",
    "    llm,\n",
    "    retriever=db.as_retriever(),\n",
    "    chain_type_kwargs={\"prompt\": QA_CHAIN_PROMPT}\n",
    ")\n"
   ]
  },
  {
   "cell_type": "code",
   "execution_count": 28,
   "metadata": {},
   "outputs": [],
   "source": [
    "question = 'What was the News of the Golden Feather'"
   ]
  },
  {
   "cell_type": "code",
   "execution_count": 30,
   "metadata": {},
   "outputs": [],
   "source": [
    "question = 'What was Leo facinated about?'"
   ]
  },
  {
   "cell_type": "code",
   "execution_count": 31,
   "metadata": {},
   "outputs": [
    {
     "name": "stderr",
     "output_type": "stream",
     "text": [
      "Llama.generate: prefix-match hit\n"
     ]
    },
    {
     "name": "stdout",
     "output_type": "stream",
     "text": [
      " Asteroids\n",
      "Answer: The stars"
     ]
    },
    {
     "name": "stderr",
     "output_type": "stream",
     "text": [
      "\n",
      "llama_print_timings:        load time = 19534.27 ms\n",
      "llama_print_timings:      sample time =    16.78 ms /     9 runs   (    1.86 ms per token,   536.42 tokens per second)\n",
      "llama_print_timings: prompt eval time = 10003.05 ms /   157 tokens (   63.71 ms per token,    15.70 tokens per second)\n",
      "llama_print_timings:        eval time =  1347.03 ms /     8 runs   (  168.38 ms per token,     5.94 tokens per second)\n",
      "llama_print_timings:       total time = 11470.28 ms\n"
     ]
    }
   ],
   "source": [
    "result = qa_chain({\"query\": question})"
   ]
  }
 ],
 "metadata": {
  "kernelspec": {
   "display_name": "env",
   "language": "python",
   "name": "python3"
  },
  "language_info": {
   "codemirror_mode": {
    "name": "ipython",
    "version": 3
   },
   "file_extension": ".py",
   "mimetype": "text/x-python",
   "name": "python",
   "nbconvert_exporter": "python",
   "pygments_lexer": "ipython3",
   "version": "3.11.4"
  },
  "orig_nbformat": 4
 },
 "nbformat": 4,
 "nbformat_minor": 2
}
